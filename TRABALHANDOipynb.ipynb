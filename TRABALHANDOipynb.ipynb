{
 "cells": [
  {
   "cell_type": "markdown",
   "metadata": {},
   "source": [
    "## **ANÁLISE E COMPARAÇÃO DE SINAIS DE ECG**\n",
    "\n",
    "INTEGRANTES:\n",
    "\n",
    "`[LUCAS HENRIQUE DOS ANJOS OLIVEIRA] (0034868)` \n",
    "\n",
    "`[MARIANA GOMES BRANDÃO VIDOTTI (0056235)]`\n",
    "\n",
    "\n"
   ]
  },
  {
   "cell_type": "markdown",
   "metadata": {},
   "source": [
    "___\n",
    "\n",
    "Primeiramente é necessário importar os arquivos do banco de dados. Para isso serão usados os passos abaixo:"
   ]
  },
  {
   "cell_type": "code",
   "execution_count": null,
   "metadata": {},
   "outputs": [],
   "source": [
    "# Numpy e Matplotlib.pyplot são bibliotecas já normalmente usadas em exercícios da disciplina. \n",
    "import numpy as np\n",
    "import matplotlib.pyplot as plt\n",
    "from scipy.io import wavfile # Bibllioteca para importar arquivos de áudio para referência. \n",
    "\n",
    "# Carregue o arquivo de áudio (NECESSÁRIO IMPORTAR OS ARQUIVOS DE AUDIO NO LOCAL 'seu_audio.wav')\n",
    "sample_rate1, audio_data1 = wavfile.read('seu_audio.wav')\n"
   ]
  },
  {
   "cell_type": "markdown",
   "metadata": {},
   "source": [
    "Abaixo será aplicado a FFT para que os arquivos sejam transformados no domínio da frequência e trabalhados em formato de gráfico. "
   ]
  },
  {
   "cell_type": "code",
   "execution_count": null,
   "metadata": {},
   "outputs": [],
   "source": [
    "# Aplicação da FFT. \n",
    "fft_result_audio1 = np.fft.fft(audio_data1)\n",
    "freq = np.fft.fftfreq(len(fft_result), 1/sample_rate1)\n",
    "\n",
    "# Descarte a metade imaginária (simétrica) dos resultados\n",
    "half_len = len(fft_result_audio1)//2\n",
    "fft_result_audio1 = fft_result_audio1[:half_len]\n",
    "freq = freq[:half_len]\n",
    "\n",
    "# Plotando o gráfico de magnitude em função da frequência para o áudio 1\n",
    "plt.figure(figsize=(10,4))\n",
    "plt.plot(freq, np.abs(fft_result_audio1))\n",
    "plt.title('Análise de Frequência do Áudio')\n",
    "plt.xlabel('Frequência (Hz)')\n",
    "plt.ylabel('Magnitude')\n",
    "plt.show()\n",
    "plt.grid(1)\n",
    "\n",
    "# Plotando o gráfico de magnitude em função da frequência para o áudio 2\n",
    "plt.figure(figsize=(10,4))\n",
    "plt.plot(freq, np.abs(fft_result_audio2))\n",
    "plt.title('Análise de Frequência do Áudio')\n",
    "plt.xlabel('Frequência (Hz)')\n",
    "plt.ylabel('Magnitude')\n",
    "plt.show()\n",
    "plt.grid(1)\n",
    "\n",
    "# Transformando e comparando os sinais no domínio da frequência. \n",
    "def calcular_fft(audio_data, sample_rate):\n",
    "    fft_result = np.fft.fft(audio_data)\n",
    "    freq = np.fft.fftfreq(len(fft_result), 1/sample_rate)\n",
    "    half_len = len(fft_result) // 2\n",
    "    fft_result = fft_result[:half_len]\n",
    "    freq = freq[:half_len]\n",
    "    return freq, np.abs(fft_result)\n",
    "\n",
    "def comparar_audios(audio1_path, audio2_path):\n",
    "    # Carregue os arquivos de áudio\n",
    "    sample_rate1, audio_data1 = wavfile.read(audio1_path)\n",
    "    sample_rate2, audio_data2 = wavfile.read(audio2_path)\n",
    "\n",
    "    # Calcule as representações de FFT para cada áudio\n",
    "    freq1, mag1 = calcular_fft(audio_data1, sample_rate1)\n",
    "    freq2, mag2 = calcular_fft(audio_data2, sample_rate2)\n",
    "\n",
    "    # Normalizar os tamanhos dos vetores se necessário\n",
    "    min_len = min(len(mag1), len(mag2))\n",
    "    mag1, mag2 = mag1[:min_len], mag2[:min_len]\n",
    "\n",
    "    # Calcule a diferença entre as magnitudes\n",
    "    diff_magnitude = np.abs(mag1 - mag2)\n",
    "\n",
    "    # Plote o resultado\n",
    "    plt.plot(freq1[:min_len], diff_magnitude)\n",
    "    plt.title('Diferença na Magnitude da FFT entre Áudio 1 e Áudio 2')\n",
    "    plt.xlabel('Frequência (Hz)')\n",
    "    plt.ylabel('Diferença na Magnitude')\n",
    "    plt.show()\n",
    "\n",
    "# Substitua 'audio1.wav' e 'audio2.wav' pelos caminhos dos seus arquivos de áudio\n",
    "comparar_audios('audio1.wav', 'audio2.wav')"
   ]
  },
  {
   "cell_type": "markdown",
   "metadata": {},
   "source": [
    "Agora, é necessário uma comparação entre os áudios para verificar as diferenças entre a ECG de um paciente com comportamentos normais de seu coração, para um paciente que aparenta comportamentos distantes de uma pessoa saudável. "
   ]
  },
  {
   "cell_type": "code",
   "execution_count": null,
   "metadata": {
    "run_control": {
     "marked": false
    }
   },
   "outputs": [],
   "source": []
  },
  {
   "cell_type": "code",
   "execution_count": null,
   "metadata": {},
   "outputs": [],
   "source": []
  },
  {
   "cell_type": "markdown",
   "metadata": {},
   "source": [
    "___"
   ]
  },
  {
   "cell_type": "markdown",
   "metadata": {},
   "source": [
    "## **CONSIDERAÇÕES FINAIS**\n",
    "\n",
    "\n",
    "Discorra sobre o código e problemas encontrados no projeto. "
   ]
  },
  {
   "cell_type": "markdown",
   "metadata": {},
   "source": [
    "___\n",
    "\n",
    "## **REFERÊNCIAS**\n",
    "\n",
    "- "
   ]
  }
 ],
 "metadata": {
  "kernelspec": {
   "display_name": "Python 3 (ipykernel)",
   "language": "python",
   "name": "python3"
  },
  "language_info": {
   "codemirror_mode": {
    "name": "ipython",
    "version": 3
   },
   "file_extension": ".py",
   "mimetype": "text/x-python",
   "name": "python",
   "nbconvert_exporter": "python",
   "pygments_lexer": "ipython3",
   "version": "3.11.2"
  },
  "toc": {
   "base_numbering": 1,
   "nav_menu": {
    "height": "228px",
    "width": "370px"
   },
   "number_sections": true,
   "sideBar": true,
   "skip_h1_title": false,
   "title_cell": "Table of Contents",
   "title_sidebar": "Contents",
   "toc_cell": false,
   "toc_position": {},
   "toc_section_display": true,
   "toc_window_display": false
  },
  "varInspector": {
   "cols": {
    "lenName": 16,
    "lenType": 16,
    "lenVar": 40
   },
   "kernels_config": {
    "python": {
     "delete_cmd_postfix": "",
     "delete_cmd_prefix": "del ",
     "library": "var_list.py",
     "varRefreshCmd": "print(var_dic_list())"
    },
    "r": {
     "delete_cmd_postfix": ") ",
     "delete_cmd_prefix": "rm(",
     "library": "var_list.r",
     "varRefreshCmd": "cat(var_dic_list()) "
    }
   },
   "types_to_exclude": [
    "module",
    "function",
    "builtin_function_or_method",
    "instance",
    "_Feature"
   ],
   "window_display": false
  }
 },
 "nbformat": 4,
 "nbformat_minor": 4
}
